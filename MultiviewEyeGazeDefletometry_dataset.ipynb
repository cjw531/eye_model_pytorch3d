{
 "cells": [
  {
   "cell_type": "code",
   "execution_count": 1,
   "id": "specified-organ",
   "metadata": {},
   "outputs": [
    {
     "name": "stdout",
     "output_type": "stream",
     "text": [
      "cuda:0\n"
     ]
    },
    {
     "name": "stderr",
     "output_type": "stream",
     "text": [
      "/home/jiwon/miniconda3/envs/eye_model/lib/python3.8/site-packages/torchvision/io/image.py:13: UserWarning: Failed to load image Python extension: '/home/jiwon/miniconda3/envs/eye_model/lib/python3.8/site-packages/torchvision/image.so: undefined symbol: _ZNK3c107SymBool10guard_boolEPKcl'If you don't plan on using image functionality from `torchvision.io`, you can ignore this warning. Otherwise, there might be something wrong with your environment. Did you have `libjpeg` or `libpng` installed before building `torchvision` from source?\n",
      "  warn(\n"
     ]
    }
   ],
   "source": [
    "import os\n",
    "os.environ[\"CUDA_VISIBLE_DEVICES\"] = \"0\"\n",
    "import sys\n",
    "# insert at 1, 0 is the script path (or '' in REPL)\n",
    "# sys.path.append( '/home/tianfuwang/pytorch3d-deflectometry-tianfu')\n",
    "\n",
    "%load_ext autoreload\n",
    "%autoreload 2\n",
    "%matplotlib inline\n",
    "#%reset\n",
    "\n",
    "from ipywidgets import interactive, interact\n",
    "\n",
    "import os\n",
    "import torch\n",
    "import numpy as np\n",
    "from tqdm import tqdm_notebook\n",
    "import imageio\n",
    "from skimage import img_as_ubyte\n",
    "import scipy.spatial as sp\n",
    "from scipy.ndimage import gaussian_filter\n",
    "# from utils import image_grid, plot_camera_scene\n",
    "import matplotlib.pyplot as plt\n",
    "import scipy.io\n",
    "\n",
    "from pytorch3d.renderer.cameras import SfMPerspectiveCameras\n",
    "from pytorch3d.renderer import look_at_view_transform\n",
    "\n",
    "from pytorch3d.transforms import Rotate, Translate, Scale, Transform3d, so3_log_map, so3_exponential_map, euler_angles_to_matrix,matrix_to_euler_angles\n",
    "\n",
    "torch.cuda.empty_cache()\n",
    "\n",
    "import Tianfu_MultiviewDeflectometryModel as T_DM;\n",
    "from pytorch3d.io import load_objs_as_meshes, load_obj\n",
    "from pytorch3d.structures import Meshes, Textures\n",
    "torch.cuda.device_count()\n",
    "\n",
    "device = torch.cuda.current_device()\n",
    "dtype = torch.float32\n",
    "\n",
    "# Set the cuda device \n",
    "if torch.cuda.is_available():\n",
    "    device = torch.device(\"cuda:0\")\n",
    "    torch.cuda.set_device(device)\n",
    "else:\n",
    "    device = torch.device(\"cpu\")\n",
    "# torch.cuda.set_device(device)\n",
    "dtype = torch.float32\n",
    "print(device)"
   ]
  },
  {
   "cell_type": "code",
   "execution_count": 2,
   "id": "dad2d175-c01d-4d08-b525-70062806733c",
   "metadata": {},
   "outputs": [
    {
     "name": "stdout",
     "output_type": "stream",
     "text": [
      "Fri Mar 22 02:40:04 2024       \n",
      "+-----------------------------------------------------------------------------+\n",
      "| NVIDIA-SMI 510.47.03    Driver Version: 510.47.03    CUDA Version: 11.6     |\n",
      "|-------------------------------+----------------------+----------------------+\n",
      "| GPU  Name        Persistence-M| Bus-Id        Disp.A | Volatile Uncorr. ECC |\n",
      "| Fan  Temp  Perf  Pwr:Usage/Cap|         Memory-Usage | GPU-Util  Compute M. |\n",
      "|                               |                      |               MIG M. |\n",
      "|===============================+======================+======================|\n",
      "|   0  NVIDIA GeForce ...  On   | 00000000:2B:00.0  On |                  N/A |\n",
      "| 80%   34C    P5    99W / 420W |    814MiB / 24576MiB |     21%      Default |\n",
      "|                               |                      |                  N/A |\n",
      "+-------------------------------+----------------------+----------------------+\n",
      "                                                                               \n",
      "+-----------------------------------------------------------------------------+\n",
      "| Processes:                                                                  |\n",
      "|  GPU   GI   CI        PID   Type   Process name                  GPU Memory |\n",
      "|        ID   ID                                                   Usage      |\n",
      "|=============================================================================|\n",
      "|    0   N/A  N/A      1310      G   /usr/lib/xorg/Xorg                 78MiB |\n",
      "|    0   N/A  N/A      1996      G   /usr/lib/xorg/Xorg                399MiB |\n",
      "|    0   N/A  N/A      2135      G   /usr/bin/gnome-shell               52MiB |\n",
      "|    0   N/A  N/A     33743      G   ...on=20240317-180050.247000       30MiB |\n",
      "|    0   N/A  N/A     38301      G   /opt/zoom/zoom                     96MiB |\n",
      "|    0   N/A  N/A     38346      G   ...--variations-seed-version        4MiB |\n",
      "|    0   N/A  N/A     45087      G   ...RendererForSitePerProcess      125MiB |\n",
      "+-----------------------------------------------------------------------------+\n"
     ]
    }
   ],
   "source": [
    "!nvidia-smi"
   ]
  },
  {
   "cell_type": "markdown",
   "id": "wooden-relative",
   "metadata": {},
   "source": [
    "## Load Face Mesh"
   ]
  },
  {
   "cell_type": "code",
   "execution_count": 3,
   "id": "independent-purse",
   "metadata": {},
   "outputs": [],
   "source": [
    "from pytorch3d.io import load_objs_as_meshes, load_obj\n",
    "from pytorch3d.structures import Meshes, Textures\n",
    "from pytorch3d.renderer import (\n",
    "    look_at_view_transform,\n",
    "    OpenGLPerspectiveCameras, \n",
    "    PointLights, \n",
    "    DirectionalLights, \n",
    "    Materials, \n",
    "    RasterizationSettings, \n",
    "    MeshRenderer, \n",
    "    MeshRasterizer,  \n",
    "    TexturedSoftPhongShader\n",
    ")\n",
    "\n",
    "face_mesh = None"
   ]
  },
  {
   "cell_type": "code",
   "execution_count": 4,
   "id": "d868cf9e-68fc-4abc-aab2-b0d557f5d140",
   "metadata": {},
   "outputs": [
    {
     "name": "stdout",
     "output_type": "stream",
     "text": [
      "torch.Size([1, 37122, 3])\n",
      "torch.Size([1, 18822, 2])\n",
      "torch.Size([1, 1024, 1024, 3])\n"
     ]
    }
   ],
   "source": [
    "import Tianfu_MultiviewDeflectometryModel as T_DM;\n",
    "from pytorch3d.io import load_objs_as_meshes, load_obj\n",
    "from pytorch3d.structures import Meshes, Textures\n",
    "\n",
    "obj_filename = \"./mesh_data/Textured_Eye_Model/Eye_Model.obj\"\n",
    "cm = 0.01   \n",
    "mesh = load_objs_as_meshes([obj_filename], device=device)\n",
    "verts, faces, aux = load_obj(obj_filename, device = device)\n",
    "\n",
    "tex_maps = aux.texture_images\n",
    "if tex_maps is not None and len(tex_maps) > 0:\n",
    "    verts_uvs = aux.verts_uvs[None, ...].to(device)  # (1, V, 2)\n",
    "    faces_uvs = faces.textures_idx[None, ...].to(device)  # (1, F, 3)\n",
    "    image = list(tex_maps.values())[0].to(device)[None]\n",
    "    print(faces_uvs.shape)\n",
    "    print(verts_uvs.shape)\n",
    "    mesh_texture = Textures(verts_uvs=verts_uvs, faces_uvs=faces_uvs, maps=image)\n",
    "    print(image.shape)"
   ]
  },
  {
   "cell_type": "code",
   "execution_count": 5,
   "id": "785f32b7-03dd-437a-a7b6-a9d8bdd58d20",
   "metadata": {},
   "outputs": [],
   "source": [
    "# create the camera views\n",
    "cm = 0.01 \n",
    "views1D = 2;\n",
    "views = 2\n",
    "cam_dist = 7 * cm; # the distance to the camera\n",
    "max_ang = 10;\n",
    "ang = np.linspace(-max_ang,max_ang,views1D) # grid of angles in degrees\n",
    "if views ==1:\n",
    "    ang = 0;\n",
    "azim,elev = np.meshgrid(ang, ang);\n",
    "azim = np.append(azim, 0)\n",
    "elev = np.append(elev, 0)\n",
    "\n",
    "# create torch tensors\n",
    "dist = cam_dist*torch.ones(views , dtype=dtype).view(views ,1)   # distance from camera to the object\n",
    "\n",
    "#camera elevation\n",
    "elev = torch.tensor([0,0], dtype=dtype).view(views,1)\n",
    "\n",
    "#camera azimuth\n",
    "azim = torch.tensor([0,0], dtype=dtype).view(views,1)\n",
    "\n",
    "# Get the position of the camera based on the spherical angles\n",
    "cR, cT = look_at_view_transform(dist, elev, azim, device=device) # (views,3,3), (views,3) \n",
    "# print(cR, cT)\n",
    "# print(torch.matmul(cam_rot.inverse(), cR[0]))\n",
    "cR[1][0, 0] = 1\n",
    "cR[1][2, 2] = 1\n",
    "\n",
    "\n",
    "\n",
    "cT[0] = cT[1]\n",
    "cR[0] = cR[1]\n"
   ]
  },
  {
   "cell_type": "code",
   "execution_count": 6,
   "id": "b60ec1a3-ff13-4f0c-9e97-20c0437dee0b",
   "metadata": {},
   "outputs": [
    {
     "name": "stdout",
     "output_type": "stream",
     "text": [
      "tensor([[-0.0691, -0.0802,  0.0275],\n",
      "        [ 0.0703, -0.0871,  0.0191],\n",
      "        [-0.0675, -0.0194,  0.0058],\n",
      "        [ 0.0719, -0.0262, -0.0026]], device='cuda:0')\n",
      "tensor([[ 0.0691,  0.0802, -0.0425],\n",
      "        [-0.0703,  0.0871, -0.0509],\n",
      "        [ 0.0675,  0.0194, -0.0642],\n",
      "        [-0.0719,  0.0262, -0.0726]], device='cuda:0')\n"
     ]
    }
   ],
   "source": [
    "corners = torch.tensor(scipy.io.loadmat(\"./cam_data/corners.mat\")[\"corners\"], dtype=dtype).to(device)  *0.001\n",
    "\n",
    "\n",
    "corners3 = (corners[2] - corners[0]) + corners[1]\n",
    "torch.dot(corners3 - corners[1], corners3 - corners[2])\n",
    "corners  = torch.cat((corners, corners3[None]), dim = 0)\n",
    "print(corners)\n",
    "corners[:, 2] -= 0.07\n",
    "corners[:, 1] *= -1\n",
    "\n",
    "corners[:, 0] *= -1\n",
    "print(corners)\n",
    "corners2 = corners.clone()\n",
    "corners2[0] = corners[1]\n",
    "corners2[1] = corners[0]\n",
    "corners2[2] = corners[3]\n",
    "corners2[3] = corners[2]\n",
    "corners = corners2"
   ]
  },
  {
   "cell_type": "code",
   "execution_count": 7,
   "id": "6629adb9-041c-4a8e-93d4-4095f4949d0c",
   "metadata": {},
   "outputs": [
    {
     "name": "stdout",
     "output_type": "stream",
     "text": [
      "tensor([-0.0014,  0.0532, -0.0576], device='cuda:0')\n",
      "tensor([ 0.1394, -0.0068,  0.0083], device='cuda:0') tensor([-0.0017, -0.0608, -0.0217], device='cuda:0')\n",
      "tensor(0.1398, device='cuda:0')\n",
      "tensor(0.0646, device='cuda:0')\n",
      "tensor(0.2796, device='cuda:0') tensor(0.1292, device='cuda:0')\n",
      "tensor([0.0260, 0.9415, 0.3359], device='cuda:0')\n",
      "z\n",
      "tensor([-0.0726, -0.3334,  0.9400], device='cuda:0')\n",
      "tensor([-0.0726, -0.3334,  0.9400], device='cuda:0')\n",
      "tensor([ 0.9970, -0.0488,  0.0597], device='cuda:0') tensor([0.0260, 0.9415, 0.3359], device='cuda:0') tensor([-0.0726, -0.3334,  0.9400], device='cuda:0')\n",
      "tensor([[ 0.9970,  0.0260, -0.0726],\n",
      "        [-0.0488,  0.9415, -0.3334],\n",
      "        [ 0.0597,  0.3359,  0.9400]], device='cuda:0')\n"
     ]
    }
   ],
   "source": [
    "screen_trans = corners.mean(axis = 0)\n",
    "print(screen_trans)\n",
    "\n",
    "\n",
    "y = (corners[2] - corners[0])\n",
    "\n",
    "x = (corners[1] - corners[0])\n",
    "\n",
    "print(x, y)\n",
    "print(torch.sqrt(torch.sum(x * x)))\n",
    "print(torch.sqrt(torch.sum(y * y)))\n",
    "\n",
    "screen_size_x = 2 * torch.sqrt(torch.sum(x * x))\n",
    "screen_size_y = 2 * torch.sqrt(torch.sum(y * y))\n",
    "print(screen_size_x, screen_size_y)\n",
    "x = x/torch.sqrt(torch.sum(x * x))\n",
    "y = -y/torch.sqrt(torch.sum(y * y))\n",
    "print(y)\n",
    "z = torch.cross(x, y)\n",
    "print(\"z\")\n",
    "print(z)\n",
    "z = z / (torch.sqrt(torch.sum (z * z)))\n",
    "print(z)\n",
    "print(x, y,z)\n",
    "\n",
    "screen_rot = torch.zeros((3,3), dtype = dtype, device = device)\n",
    "screen_rot[:, 0] = x\n",
    "screen_rot[:, 1] = y\n",
    "screen_rot[:, 2] = z\n",
    "print(screen_rot)"
   ]
  },
  {
   "cell_type": "code",
   "execution_count": 8,
   "id": "845fa8fd-553e-4245-8fd9-68fe5c74e2ac",
   "metadata": {},
   "outputs": [
    {
     "name": "stdout",
     "output_type": "stream",
     "text": [
      "tensor([[[ 0.9970,  0.0260, -0.0726],\n",
      "         [-0.0488,  0.9415, -0.3334],\n",
      "         [ 0.0597,  0.3359,  0.9400]],\n",
      "\n",
      "        [[ 0.0000,  0.0000,  0.0000],\n",
      "         [ 0.0000,  0.0000,  0.0000],\n",
      "         [ 0.0000,  0.0000,  0.0000]]], device='cuda:0')\n",
      "tensor([[ 0.0074, -0.0307,  0.0718],\n",
      "        [ 0.0000,  0.0000,  0.0000]], device='cuda:0')\n",
      "tensor([[[ 0.9970,  0.0260, -0.0726,  0.0000],\n",
      "         [-0.0488,  0.9415, -0.3334,  0.0000],\n",
      "         [ 0.0597,  0.3359,  0.9400,  0.0000],\n",
      "         [ 0.0074, -0.0307,  0.0718,  1.0000]],\n",
      "\n",
      "        [[ 0.0000,  0.0000,  0.0000,  0.0000],\n",
      "         [ 0.0000,  0.0000,  0.0000,  0.0000],\n",
      "         [ 0.0000,  0.0000,  0.0000,  0.0000],\n",
      "         [ 0.0000,  0.0000,  0.0000,  1.0000]]], device='cuda:0')\n"
     ]
    },
    {
     "name": "stderr",
     "output_type": "stream",
     "text": [
      "/home/jiwon/miniconda3/envs/eye_model/lib/python3.8/site-packages/pytorch3d/transforms/transform3d.py:706: UserWarning: R is not a valid rotation matrix\n",
      "  warnings.warn(msg)\n"
     ]
    }
   ],
   "source": [
    "# If the camera to screen transform is identity, the screen textures map to [-1:1,-1:1,0] in camera coordinates\n",
    "# the screen transform is defined relative to the camera coordinates\n",
    "# relative transform is used so that screen transform is not optimized independently from camera\n",
    "s2cT = torch.zeros((2,3) ,device=device, dtype=dtype)# translate the screen -1 in Y-axis relative to camera\n",
    "s2cR = torch.zeros((2,3, 3) ,device=device, dtype=dtype)# rotation is fixed same as camera\n",
    "sS = torch.tensor([1, 1, 1],device=device, dtype=dtype).expand(views,3) # scale maps screen coords to [-1:1,-1:1,0]\n",
    "\n",
    "# print(s2cR)\n",
    "\n",
    "# print()\n",
    "s2cR[0] = screen_rot.clone()\n",
    "s2cT[0] =  -torch.matmul(s2cR[0].inverse(), screen_trans.clone())\n",
    "\n",
    "scale_factor = 1\n",
    "screen_size_x = 0.1398* scale_factor\n",
    "screen_size_y = 0.0646 * scale_factor\n",
    "\n",
    "\n",
    "print(s2cR)\n",
    "\n",
    "print(s2cT)\n",
    "cameraToScreenTrans = Transform3d(device=device).compose(Rotate(s2cR, device=device)).translate(s2cT)\n",
    "print(cameraToScreenTrans.get_matrix())\n",
    "\n"
   ]
  },
  {
   "cell_type": "code",
   "execution_count": 9,
   "id": "51704698-5e85-4506-8d95-10ee564546d6",
   "metadata": {},
   "outputs": [],
   "source": [
    "#Here's a function to convert parameters in a intrisic matrix K to pytorch3D intrinsics\n",
    "\n",
    "def convert_intrinsic_matrix_to_intrinsic_params(fx, fy, px, py, imwidth, imheight):\n",
    "\n",
    "  \"\"\"\n",
    "      for perspective camera, fx, fy, px, py correspond to following values in intrinic matrix\n",
    "      K = [\n",
    "                              [fx,   0,   px,   0],\n",
    "                              [0,   fy,   py,   0],\n",
    "                              [0,    0,    0,   1],\n",
    "                              [0,    0,    1,   0],\n",
    "      ]\n",
    "\n",
    "      imwidth, imheight: width and height of camera image in pixels\n",
    "  \"\"\"\n",
    "\n",
    "\n",
    "  half_imwidth = imwidth / 2.0\n",
    "  half_imheight = imheight / 2.0\n",
    "  fx = fx / half_imwidth\n",
    "  fy = fy / half_imheight\n",
    "  px = -(px - half_imwidth) / half_imwidth\n",
    "  py = -(py - half_imheight) / half_imheight\n",
    "\n",
    "  focal_length = [fx, fy]\n",
    "  principal_point = [px, py]\n",
    "  return focal_length, principal_point\n"
   ]
  },
  {
   "cell_type": "code",
   "execution_count": 10,
   "id": "e927f7e8-c691-42bb-9467-c11f9b177c97",
   "metadata": {},
   "outputs": [],
   "source": [
    "fx_cam = [2651.74260529167, 2624.54733376980]\n",
    "fy_cam = [2650.95006027965,2624.65009380545]\n",
    "px_cam = [675.661710350754, 653.611361380318]\n",
    "py_cam = [519.315006582873, 545.305253355869]"
   ]
  },
  {
   "cell_type": "code",
   "execution_count": 11,
   "id": "adaptive-livestock",
   "metadata": {},
   "outputs": [
    {
     "name": "stdout",
     "output_type": "stream",
     "text": [
      "673.693748324135 525.7529476491524\n",
      "fl\n",
      "tensor([[3.9936, 3.9924],\n",
      "        [0.0000, 0.0000]])\n",
      "673.693748324135 525.7529476491524\n",
      "focal_length\n",
      "[3.9935882609814306, 3.9923946690958587]\n",
      "tensor([[3.9936, 3.9924],\n",
      "        [3.9936, 3.9924]])\n",
      "512\n"
     ]
    }
   ],
   "source": [
    "#camera intrinsics\n",
    "\n",
    "render_res = 512\n",
    "fx =2651.74260529167 /1328 * render_res\n",
    "fy = 2650.95006027965 /1328 * render_res\n",
    "px = 673.693748324135\n",
    "py =  5.257529476491524e+02      \n",
    "actual_imwidth = render_res\n",
    "actual_imheight = render_res\n",
    "half_actual_imwidth = actual_imwidth\n",
    "half_actual_imheight = actual_imheight\n",
    "\n",
    "render_size = max(actual_imwidth, actual_imheight)\n",
    "half_render_size = render_size\n",
    "render_px = px + (render_size - actual_imwidth)\n",
    "render_py = py + (render_size - actual_imheight)//2\n",
    "print(render_px, render_py)\n",
    "\n",
    "  \n",
    "Np = render_size\n",
    "\n",
    "focal_length, principal_point = convert_intrinsic_matrix_to_intrinsic_params(fx, fy, render_px, render_py, render_size, render_size)\n",
    "principal_point = [0,0]\n",
    "\n",
    "\n",
    "fl = torch.zeros((2,2))\n",
    "\n",
    "fl[0] = torch.tensor(focal_length)\n",
    "pp = torch.tensor(principal_point).expand(views,2)\n",
    "print(\"fl\")\n",
    "print(fl)\n",
    "\n",
    "#camera intrinsics\n",
    "#camera intrinsics\n",
    "fx =2651.74260529167 /1328 * render_res\n",
    "fy = 2650.95006027965 /1328 * render_res\n",
    "px = 673.693748324135\n",
    "py =  5.257529476491524e+02      \n",
    "actual_imwidth = render_res\n",
    "actual_imheight = render_res\n",
    "half_actual_imwidth = actual_imwidth\n",
    "half_actual_imheight = actual_imheight\n",
    "\n",
    "render_size = max(actual_imwidth, actual_imheight)\n",
    "half_render_size = render_size\n",
    "render_px = px + (render_size - actual_imwidth)\n",
    "render_py = py + (render_size - actual_imheight)//2\n",
    "print(render_px, render_py)\n",
    "\n",
    "  \n",
    "Np = render_size\n",
    "\n",
    "focal_length, principal_point = convert_intrinsic_matrix_to_intrinsic_params(fx, fy, render_px, render_py, render_size, render_size)\n",
    "principal_point = [0,0]\n",
    "\n",
    "print(\"focal_length\")\n",
    "print(focal_length)\n",
    "# print(principal_point)\n",
    "\n",
    "# print(focal_length, principal_point)\n",
    "\n",
    "\n",
    "fl[1] = torch.tensor(focal_length)\n",
    "pp = torch.tensor(principal_point).expand(views,2)\n",
    "# print(\"fl\")\n",
    "# print(fl)\n",
    "\n",
    "# #camera intrinsics\n",
    "# fx = 2694.2//2\n",
    "# fy = 2692.8//2\n",
    "# px = 656.067589426400//2\n",
    "# py =  535.489756013584 //2    \n",
    "# actual_imwidth = 1328//2\n",
    "# actual_imheight = 1048//2\n",
    "# half_actual_imwidth = actual_imwidth//2\n",
    "# half_actual_imheight = actual_imheight//2\n",
    "\n",
    "# render_size = max(actual_imwidth, actual_imheight)\n",
    "# half_render_size = render_size//2\n",
    "# render_px = px + (render_size - actual_imwidth)\n",
    "# render_py = py + (render_size - actual_imheight)//2\n",
    "# print(\"render_size\")\n",
    "\n",
    "# print(render_size)\n",
    "# # print(render_px, render_py)\n",
    "\n",
    "  \n",
    "# Np = render_size\n",
    "\n",
    "# focal_length, principal_point = convert_intrinsic_matrix_to_intrinsic_params(fx, fy, render_px, render_py, render_size, render_size)\n",
    "# principal_point = [0,0]\n",
    "# print(\"focal_length\")\n",
    "# print(focal_length)\n",
    "\n",
    "\n",
    "\n",
    "# fl[0] = torch.tensor(focal_length) \n",
    "# print(principal_point)\n",
    "# pp = torch.tensor(principal_point).expand(views,2)\n",
    "\n",
    "print(fl)\n",
    "cameras = SfMPerspectiveCameras(focal_length= fl, principal_point= pp, R=cR, T=cT, device=device)\n",
    "\n",
    "Np = render_size\n",
    "print(Np)\n",
    "# visualize the camera positions\n",
    "# f = plot_camera_scene(cameras, cameras, \"ground truth cameras\")\n",
    "\n"
   ]
  },
  {
   "cell_type": "markdown",
   "id": "fuzzy-donna",
   "metadata": {},
   "source": [
    "## Target Scene Translation and Rotation"
   ]
  },
  {
   "cell_type": "code",
   "execution_count": 12,
   "id": "healthy-macedonia",
   "metadata": {},
   "outputs": [
    {
     "name": "stdout",
     "output_type": "stream",
     "text": [
      "tensor([-0.0040, -0.0030,  0.0120], device='cuda:0')\n",
      "tensor([-11.0000,  26.0000,   0.0000], device='cuda:0')\n"
     ]
    }
   ],
   "source": [
    "torch.random.manual_seed(10)\n",
    "\n",
    "# -0.0016, -0.0052,  0.0174\n",
    "torch.random.manual_seed(30)\n",
    "mesh_trans =  0.0 * cm *  torch.rand(3,device=device, dtype=dtype)\n",
    "mesh_trans[0] =-0.004\n",
    "mesh_trans[1] = -0.003\n",
    "mesh_trans[2] =0.012\n",
    "print(mesh_trans)\n",
    "torch.random.manual_seed(30)\n",
    "euler_angles =    -0.5 * (torch.rand(3,device=device, dtype=dtype))\n",
    "euler_angles[0] =-11* np.pi/180\n",
    "euler_angles[1] = 26* np.pi/180\n",
    "euler_angles[2] = 0* np.pi/180\n",
    "print(euler_angles * 180 /np.pi)\n",
    "euler_type = \"XYZ\"\n",
    "mesh_rotate = euler_angles_to_matrix(euler_angles, euler_type)\n",
    "mesh_rotate = Rotate(R=mesh_rotate, device=device)"
   ]
  },
  {
   "cell_type": "markdown",
   "id": "western-audit",
   "metadata": {},
   "source": [
    "   ## Generate Shader Maps for Rendering"
   ]
  },
  {
   "cell_type": "code",
   "execution_count": 29,
   "id": "statistical-member",
   "metadata": {},
   "outputs": [],
   "source": [
    "#For a purely specular reflection please use the following settings, \n",
    "#dif_map and amb_map should be 0, \n",
    "diff_map = 0*  torch.ones((1,1,3),device=device)\n",
    "spec_map = 1 * torch.ones((1,1,3),device=device)\n",
    "gamma_map = 10000*torch.ones((1,1,3),device=device)\n",
    "amb_map = 0.0*  torch.ones((1,1,3),device=device)\n",
    "shader_maps=dict({'diff_map':diff_map, 'spec_map':spec_map,'gamma_map':gamma_map, 'amb_map':amb_map})"
   ]
  },
  {
   "cell_type": "code",
   "execution_count": 30,
   "id": "9518dd01-e41e-4bbd-ae28-054c0678a449",
   "metadata": {},
   "outputs": [],
   "source": [
    "from Tianfu_MultiviewDeflectometryModel import GenerateSphereSmoothVerts, GenerateSphereSmoothFaces\n",
    "from pytorch3d.io import save_obj\n",
    "latitudes = 100;\n",
    "longitudes = 100;\n",
    "delta_latitude = np.pi /latitudes;\n",
    "delta_logitude = 2 * np.pi/longitudes;\n",
    "\n",
    "verts = torch.zeros(((latitudes + 1) * (longitudes + 1), 3), dtype= dtype,device = device)\n",
    "\n",
    "\n",
    "latitudeAngles = torch.linspace(np.pi/2, -np.pi/2, latitudes + 1, dtype= dtype,device = device)\n",
    "z = 1.05 * torch.sin(latitudeAngles)[latitudes//2:]\n",
    "xy = torch.sqrt(torch.max((0.75 ** 2 - (z + 0.3) **2), 1 - z* z  ) )\n",
    "xy[-1] = 0\n",
    "# start_index = 2\n",
    "# end_index = 13\n",
    "# xy[-end_index: -start_index + 1] = torch.linspace(xy[-end_index], xy[-start_index], end_index- start_index + 1)\n",
    "verts = GenerateSphereSmoothVerts(xy = xy, z = z,  latitudes = latitudes, longitudes = longitudes)\n",
    "faces = GenerateSphereSmoothFaces(latitudes = latitudes, longitudes = longitudes)\n",
    "mesh = Meshes(verts=[verts], faces=[faces], textures=mesh_texture)\n",
    "save_obj(\"./dl_data_set_12_20/meshes/00.obj\", verts, faces)"
   ]
  },
  {
   "cell_type": "code",
   "execution_count": 31,
   "id": "8d68bb23-76e6-4cad-96b8-02638a861182",
   "metadata": {},
   "outputs": [],
   "source": [
    "from Tianfu_MultiviewDeflectometryModel import GenerateSphereSmoothVerts, GenerateSphereSmoothFaces\n",
    "from pytorch3d.io import save_obj\n",
    "latitudes = 100;\n",
    "longitudes = 100;\n",
    "delta_latitude = np.pi /latitudes;\n",
    "delta_logitude = 2 * np.pi/longitudes;\n",
    "\n",
    "verts = torch.zeros(((latitudes + 1) * (longitudes + 1), 3), dtype= dtype,device = device)\n",
    "\n",
    "\n",
    "latitudeAngles = torch.linspace(np.pi/2, -np.pi/2, latitudes + 1, dtype= dtype,device = device)\n",
    "z = 1.05 * torch.sin(latitudeAngles)[latitudes//2:]\n",
    "xy = torch.sqrt(torch.max((0.7 ** 2 - (z + 0.35) **2), 1 - z* z  ) )\n",
    "xy[-1] = 0\n",
    "start_index = 4\n",
    "end_index = 30\n",
    "xy[-end_index: -start_index + 1] = torch.linspace(xy[-end_index], xy[-start_index], end_index- start_index + 1)\n",
    "verts = GenerateSphereSmoothVerts(xy = xy, z = z,  latitudes = latitudes, longitudes = longitudes)\n",
    "faces = GenerateSphereSmoothFaces(latitudes = latitudes, longitudes = longitudes)\n",
    "mesh = Meshes(verts=[verts], faces=[faces], textures=mesh_texture)\n",
    "save_obj(\"./dl_data_set_12_20/meshes/02.obj\", verts, faces)"
   ]
  },
  {
   "cell_type": "markdown",
   "id": "brown-diving",
   "metadata": {},
   "source": [
    "## Initialize Measurement Model"
   ]
  },
  {
   "cell_type": "code",
   "execution_count": 32,
   "id": "powerful-database",
   "metadata": {},
   "outputs": [
    {
     "name": "stderr",
     "output_type": "stream",
     "text": [
      "Clipping input data to the valid range for imshow with RGB data ([0..1] for floats or [0..255] for integers).\n"
     ]
    },
    {
     "name": "stdout",
     "output_type": "stream",
     "text": [
      "cam_to_Screen\n",
      "tensor([[[ 0.9970,  0.0260, -0.0726,  0.0000],\n",
      "         [-0.0488,  0.9415, -0.3334,  0.0000],\n",
      "         [ 0.0597,  0.3359,  0.9400,  0.0000],\n",
      "         [ 0.0074, -0.0307,  0.0718,  1.0000]],\n",
      "\n",
      "        [[ 0.0000,  0.0000,  0.0000,  0.0000],\n",
      "         [ 0.0000,  0.0000,  0.0000,  0.0000],\n",
      "         [ 0.0000,  0.0000,  0.0000,  0.0000],\n",
      "         [ 0.0000,  0.0000,  0.0000,  1.0000]]], device='cuda:0')\n",
      "world_to_cam\n",
      "tensor([[[1.0000, 0.0000, 0.0000, 0.0000],\n",
      "         [0.0000, 1.0000, 0.0000, 0.0000],\n",
      "         [0.0000, 0.0000, 1.0000, 0.0000],\n",
      "         [0.0000, 0.0000, 0.0700, 1.0000]],\n",
      "\n",
      "        [[1.0000, 0.0000, 0.0000, 0.0000],\n",
      "         [0.0000, 1.0000, 0.0000, 0.0000],\n",
      "         [0.0000, 0.0000, 1.0000, 0.0000],\n",
      "         [0.0000, 0.0000, 0.0700, 1.0000]]], device='cuda:0')\n",
      "world_to_screen\n",
      "tensor([[[ 0.9970,  0.0260, -0.0726,  0.0000],\n",
      "         [-0.0488,  0.9415, -0.3334,  0.0000],\n",
      "         [ 0.0597,  0.3359,  0.9400,  0.0000],\n",
      "         [ 0.0074, -0.0307,  0.0718,  1.0000]],\n",
      "\n",
      "        [[ 0.9970,  0.0260, -0.0726,  0.0000],\n",
      "         [-0.0488,  0.9415, -0.3334,  0.0000],\n",
      "         [ 0.0597,  0.3359,  0.9400,  0.0000],\n",
      "         [ 0.0074, -0.0307,  0.0718,  1.0000]]], device='cuda:0')\n"
     ]
    },
    {
     "data": {
      "image/png": "[encoded data removed]",
      "text/plain": [
       "<Figure size 1000x1000 with 8 Axes>"
      ]
     },
     "metadata": {},
     "output_type": "display_data"
    }
   ],
   "source": [
    "# Initialize a model using the renderer, mesh and reference image\n",
    "opt_settings = dict({'opt_depth': False, 'opt_norm': False, 'opt_cam': False, 'opt_screen': False,\n",
    "              'opt_diff':False, 'opt_spec':False, 'opt_gamma':False, 'opt_amb':False, 'opt_verts2d':False,\n",
    "              'opt_mesh_transform': False, 'opt_pattern':False, 'opt_geom': False})                  \n",
    "model_gt = T_DM.Tianfu_MultiviewDeflectometryModel(device=device,dtype=dtype, Np=Np, init_cam=cameras,\n",
    "                                 cameraToScreenTransform=cameraToScreenTrans,\n",
    "                                 shader_maps=shader_maps, opt_settings=opt_settings,\n",
    "                                  face_mesh = face_mesh,\n",
    "                                  mesh = mesh,\n",
    "                                  mesh_rotate = mesh_rotate,\n",
    "                                  mesh_translate = mesh_trans,\n",
    "                                 screen_size_u = screen_size_x ,\n",
    "                                 screen_size_v = screen_size_y ,\n",
    "                                 imheight = actual_imheight, \n",
    "                                  imwidth = actual_imwidth).to(device)\n",
    "model_gt.visualize_shader_maps()"
   ]
  },
  {
   "cell_type": "markdown",
   "id": "tested-while",
   "metadata": {},
   "source": [
    "## Generate Target Measurements"
   ]
  },
  {
   "cell_type": "code",
   "execution_count": 33,
   "id": "15511ba8-bb94-4df7-be61-77637187eae2",
   "metadata": {},
   "outputs": [],
   "source": [
    "Nt_x = 1024; # number pixels across for tecture map \n",
    "Nt_y = 1024;\n",
    "periods = np.array([[1, 1]]); # the tensor of periods\n",
    "Nph = 4; # the number of phase shifts between [0,2*pi]\n",
    "model_gt.create_sinusoid_reflection_maps(Nt = [Nt_x, Nt_y], Nph=Nph, periods=periods);\n",
    "model_gt.pattern = model_gt.pattern"
   ]
  },
  {
   "cell_type": "code",
   "execution_count": 34,
   "id": "46fc9af9-c09e-48a0-812c-7487613f2b74",
   "metadata": {},
   "outputs": [
    {
     "name": "stdout",
     "output_type": "stream",
     "text": [
      "torch.Size([1024, 1024]) 2\n",
      "torch.Size([1024, 1024, 3])\n",
      "torch.Size([1024, 1024]) 2\n",
      "torch.Size([1024, 1024, 3])\n"
     ]
    },
    {
     "name": "stderr",
     "output_type": "stream",
     "text": [
      "/tmp/ipykernel_48802/4131595090.py:10: DeprecationWarning: Starting with ImageIO v3 the behavior of this function will switch to that of iio.v3.imread. To keep the current behavior (and make this warning disappear) use `import imageio.v2 as imageio` or call `imageio.v2.imread` directly.\n",
      "  tex = imageio.imread(f\"{tex_dir}/{img}\")\n"
     ]
    },
    {
     "data": {
      "application/vnd.jupyter.widget-view+json": {
       "model_id": "0d5143809cf44f43ac9a3314841a7209",
       "version_major": 2,
       "version_minor": 0
      },
      "text/plain": [
       "interactive(children=(IntSlider(value=4, description='t', max=9), Output()), _dom_classes=('widget-interact',)…"
      ]
     },
     "metadata": {},
     "output_type": "display_data"
    }
   ],
   "source": [
    "from PIL import Image\n",
    "import skimage.transform\n",
    "import cv2\n",
    "\n",
    "\n",
    "tex_dir = './img_data/'\n",
    "tex_imgs = [\"cross.png\", \"cross_2.png\"]\n",
    "\n",
    "for img in tex_imgs:\n",
    "    tex = imageio.imread(f\"{tex_dir}/{img}\")\n",
    "    tex = np.asarray(tex)\n",
    "    tex = skimage.transform.resize(tex, (Nt_y, Nt_x))\n",
    "    tex = torch.tensor(tex, dtype= dtype, device = device)\n",
    "    print(tex.shape, len(tex.shape))\n",
    "    tex = tex[:,:,None].expand(-1,-1, 3)\n",
    "    \n",
    "    print(tex.shape)\n",
    "    model_gt.pattern  = torch.cat((model_gt.pattern,tex.permute(2, 0,1)[None,]) )\n",
    "\n",
    "model_gt.visualize_textures()\n"
   ]
  },
  {
   "cell_type": "code",
   "execution_count": 35,
   "id": "union-blood",
   "metadata": {},
   "outputs": [
    {
     "name": "stdout",
     "output_type": "stream",
     "text": [
      "torch.Size([10, 2, 512, 512, 3])\n"
     ]
    }
   ],
   "source": [
    "tex_num = 8 + len(tex_imgs)\n",
    "renders_gt = torch.zeros((tex_num,views,actual_imheight,actual_imwidth,3),device=device)\n",
    "corr = torch.zeros((views, actual_imheight,actual_imwidth,2),device=device)\n",
    "normal = torch.zeros((views, actual_imheight,actual_imwidth,3),device=device)\n",
    "dists = torch.zeros((views,100, actual_imheight,actual_imwidth),device=device)\n",
    "pixel_verts = torch.zeros((views, actual_imheight,actual_imwidth,3),device=device)\n",
    "\n",
    "for j in range(tex_num):\n",
    "    for i in range(1):\n",
    "            normal_map, corr_map, images, dist, pixel_vert= model_gt.forward(view_batchids=[i], texture_batchids=[j])\n",
    "            renders_gt[j:j + 1,i:i+1,:,:,:] = images\n",
    "            corr[i:i + 1,:,:,:] = corr_map\n",
    "            normal[i:i + 1,:,:,:] = normal_map\n",
    "            dists[i:i + 1,:,:,:] = dist\n",
    "            pixel_verts[i:i + 1,:,:,:] = pixel_vert\n",
    "\n",
    "# visualize the renderings\n",
    "# model_gt.visualize_renderings(depth=None, normals=None, images=renders_gt)\n",
    "# visualize the texture maps\n",
    "# model_gt.visualize_textures()\n",
    "torch.cuda.empty_cache()\n",
    "print(renders_gt.shape)\n",
    "# print(depth.max())\n",
    "\n",
    "# renders_gt = renders_gt + 0.05 * torch.poisson(renders_gt) \n",
    "\n",
    "# import torch.nn.functional as F\n",
    "# normal = F.normalize(normal, p=2, dim=-1, eps=1e-6)\n"
   ]
  },
  {
   "cell_type": "code",
   "execution_count": 36,
   "id": "0dce3242-2442-4b3a-a310-477505d25f67",
   "metadata": {},
   "outputs": [
    {
     "data": {
      "text/plain": [
       "(-0.5, 511.5, 511.5, -0.5)"
      ]
     },
     "execution_count": 36,
     "metadata": {},
     "output_type": "execute_result"
    },
    {
     "data": {
      "image/png": "[encoded data removed]",
      "text/plain": [
       "<Figure size 640x480 with 1 Axes>"
      ]
     },
     "metadata": {},
     "output_type": "display_data"
    }
   ],
   "source": [
    "plt.imshow(((renders_gt[-1,0, :,:]).detach().cpu()))\n",
    "plt.axis('off')\n",
    "\n",
    "# plt.savefig(\"et.png\", bbox_inches='tight', pad_inches = 0)\n"
   ]
  },
  {
   "cell_type": "markdown",
   "id": "047a1cf8-d782-4cf7-a881-ae0d2accb642",
   "metadata": {},
   "source": [
    "# Dataset Generation Loop\n"
   ]
  },
  {
   "cell_type": "code",
   "execution_count": 37,
   "id": "57084123-a11c-4606-84d1-61a91487ea40",
   "metadata": {},
   "outputs": [
    {
     "data": {
      "text/plain": [
       "tensor([[-0.7076, -0.3395,  0.6198]], device='cuda:0')"
      ]
     },
     "execution_count": 37,
     "metadata": {},
     "output_type": "execute_result"
    }
   ],
   "source": [
    "init_gaze = torch.tensor([[0.0, 0.0, 1.0]], device='cuda:0')\n",
    "mesh_rotate.transform_normals(init_gaze)"
   ]
  },
  {
   "cell_type": "code",
   "execution_count": 38,
   "id": "0c3a3080-3775-446e-8d22-7aa795bd6bee",
   "metadata": {},
   "outputs": [
    {
     "name": "stdout",
     "output_type": "stream",
     "text": [
      "tensor([-0.0040, -0.0030,  0.0120], device='cuda:0')\n",
      "tensor([-20.0000,  40.0000,   0.0000], device='cuda:0')\n"
     ]
    }
   ],
   "source": [
    "torch.random.manual_seed(30)\n",
    "mesh_trans =  0.0 * cm *  torch.rand(3,device=device, dtype=dtype)\n",
    "mesh_trans[0] =-0.004\n",
    "mesh_trans[1] = -0.003\n",
    "mesh_trans[2] =0.012\n",
    "print(mesh_trans)\n",
    "torch.random.manual_seed(30)\n",
    "euler_angles =    -0.5 * (torch.rand(3,device=device, dtype=dtype))\n",
    "euler_angles[0] =-20* np.pi/180\n",
    "euler_angles[1] =  40* np.pi/180\n",
    "euler_angles[2] = 0* np.pi/180\n",
    "print(euler_angles * 180 /np.pi)\n",
    "euler_type = \"XYZ\"\n",
    "mesh_rotate = euler_angles_to_matrix(euler_angles, euler_type)\n",
    "mesh_rotate = Rotate(R=mesh_rotate, device=device)"
   ]
  },
  {
   "cell_type": "code",
   "execution_count": 39,
   "id": "1bc2c40b-ade6-49a6-ae1f-a7afc5b8d166",
   "metadata": {},
   "outputs": [],
   "source": [
    "angles = 200\n",
    "elevs = 10 * 2 *  (np.random.random(angles) - 0.5)\n",
    "azims = 10 * 2 *  (np.random.random(angles) - 0.5)\n",
    "\n",
    "mesh_trans_x = 0.003 * 2 *  (np.random.random(angles) - 0.5) \n",
    "mesh_trans_y = 0.003 * 2 *  (np.random.random(angles) - 0.5) \n",
    "mesh_trans_z =0.003 * 2 *  (np.random.random(angles) - 0.5)"
   ]
  },
  {
   "cell_type": "code",
   "execution_count": 40,
   "id": "890d8c3d-dd73-4d08-8628-9f8a02dc0692",
   "metadata": {},
   "outputs": [],
   "source": [
    "import json\n",
    "\n",
    "mesh_count = 5\n",
    "config = {}\n",
    "config[\"frames\"] = []\n",
    "dataset_dir = \"./dl_data_set_12_20\"\n",
    "config[\"dataset_dir\"] = dataset_dir\n",
    "os.makedirs(dataset_dir, exist_ok = True)\n",
    "\n",
    "def listify_matrix(mat):\n",
    "    return np.ndarray.tolist(mat.cpu().numpy())\n",
    "\n",
    "for i in range(angles):\n",
    "    elev = elevs[i] - 15\n",
    "    azim = azims[i] + 40\n",
    "    torch.random.manual_seed(30)\n",
    "    euler_angles =    -0.5 * (torch.rand(3,device=device, dtype=dtype))\n",
    "    euler_angles[0] =elev* np.pi/180\n",
    "    euler_angles[1] =  azim* np.pi/180\n",
    "    euler_angles[2] = 0* np.pi/180\n",
    "    euler_type = \"XYZ\"\n",
    "    mesh_rotate = euler_angles_to_matrix(euler_angles, euler_type)\n",
    "    R = Rotate(R=mesh_rotate, device=device)\n",
    "    init_gaze = torch.tensor([[0.0, 0.0, 1.0]], device='cuda:0')\n",
    "    real_gaze = R.transform_normals(init_gaze)\n",
    "    \n",
    "    torch.random.manual_seed(30)\n",
    "    mesh_trans =  0.0 * cm *  torch.rand(3,device=device, dtype=dtype)\n",
    "    for j in range(mesh_count):\n",
    "    \n",
    "        frame ={\n",
    "            \"elev\": elev,\n",
    "            \"azim\": azim,\n",
    "            \"file_path\": f\"./imgs/{str(i * mesh_count + j).zfill(5)}\",\n",
    "            \"real_gaze\": listify_matrix(real_gaze),\n",
    "            \"rot_matrix\": listify_matrix( mesh_rotate),\n",
    "            \"mesh_trans_x\":mesh_trans_x[i],\n",
    "            \"mesh_trans_y\":mesh_trans_y[i],\n",
    "            \"mesh_trans_z\":mesh_trans_z[i],\n",
    "            \"mesh_path\": f\"./meshes/{str(j).zfill(2)}.obj\"\n",
    "        }\n",
    "    \n",
    "        config[\"frames\"].append(frame)\n",
    "    # mesh_rotate = Rotate(R=mesh_rotate, device=device)\n",
    "\n",
    "with open(f'{dataset_dir}/config.json', 'w') as f:\n",
    "    json.dump(config, f)\n",
    "\n"
   ]
  },
  {
   "cell_type": "code",
   "execution_count": 41,
   "id": "4b36d1de-61aa-4fb9-8cc6-13a2158ca38a",
   "metadata": {},
   "outputs": [
    {
     "data": {
      "text/plain": [
       "{'elev': -9.514664755187587,\n",
       " 'azim': 35.445782479341,\n",
       " 'file_path': './imgs/00018',\n",
       " 'real_gaze': [[-0.5719543695449829,\n",
       "   -0.16530004143714905,\n",
       "   0.8034575581550598]],\n",
       " 'rot_matrix': [[0.8146646618843079, 0.0, 0.5799323320388794],\n",
       "  [-0.09586282819509506, 0.9862433075904846, 0.13466408848762512],\n",
       "  [-0.5719543695449829, -0.16530002653598785, 0.8034575581550598]],\n",
       " 'mesh_trans_x': 0.0004917424895836553,\n",
       " 'mesh_trans_y': 0.001599983511501384,\n",
       " 'mesh_trans_z': 0.0018410639606632028,\n",
       " 'mesh_path': './meshes/03.obj'}"
      ]
     },
     "execution_count": 41,
     "metadata": {},
     "output_type": "execute_result"
    }
   ],
   "source": [
    "config[\"frames\"][18]"
   ]
  },
  {
   "cell_type": "code",
   "execution_count": 42,
   "id": "c76cbdec-4d6c-424e-a324-e4f60e546576",
   "metadata": {
    "scrolled": true,
    "tags": []
   },
   "outputs": [
    {
     "name": "stdout",
     "output_type": "stream",
     "text": [
      "{'elev': -10.925424506600724, 'azim': 45.18766216833804, 'file_path': './imgs/00000', 'real_gaze': [[-0.6965605020523071, -0.189531147480011, 0.6920124888420105]], 'rot_matrix': [[0.704787015914917, 0.0, 0.7094190120697021], [-0.13445700705051422, 0.9818747043609619, 0.1335791051387787], [-0.6965605616569519, -0.18953116238117218, 0.6920125484466553]], 'mesh_trans_x': -0.002093540402072952, 'mesh_trans_y': 0.0012838905145639433, 'mesh_trans_z': 0.0006625997382791307, 'mesh_path': './meshes/00.obj'}\n"
     ]
    },
    {
     "name": "stderr",
     "output_type": "stream",
     "text": [
      "/tmp/ipykernel_48802/1738527454.py:60: DeprecationWarning: Starting with ImageIO v3 the behavior of this function will switch to that of iio.v3.imread. To keep the current behavior (and make this warning disappear) use `import imageio.v2 as imageio` or call `imageio.v2.imread` directly.\n",
      "  tex = imageio.imread(f\"{tex_dir}/{img}\")\n"
     ]
    }
   ],
   "source": [
    "\n",
    "\n",
    "def convert_np_and_save(t, file_name):\n",
    "    t_np = t.cpu().numpy().astype(np.float16)\n",
    "    np.save(file_name, t_np)\n",
    "\n",
    "for k in range(len(config[\"frames\"])):\n",
    "    \n",
    "    frame = config[\"frames\"][k]\n",
    "    print(frame)\n",
    "    file_path = frame[\"file_path\"]\n",
    "    \n",
    "    save_dir = f\"{dataset_dir}/{file_path}\"\n",
    "    os.makedirs(save_dir, exist_ok = True)\n",
    "    elev = frame[\"elev\"]\n",
    "    azim = frame[\"azim\"]\n",
    "\n",
    "    torch.random.manual_seed(30)\n",
    "    euler_angles =    -0.5 * (torch.rand(3,device=device, dtype=dtype))\n",
    "    euler_angles[0] = elev* np.pi/180\n",
    "    euler_angles[1] =  azim* np.pi/180\n",
    "    euler_angles[2] = 0* np.pi/180\n",
    "    euler_type = \"XYZ\"\n",
    "    mesh_rotate = euler_angles_to_matrix(euler_angles, euler_type)\n",
    "    mesh_rotate = Rotate(R=mesh_rotate, device=device)\n",
    "    \n",
    "    torch.random.manual_seed(30)\n",
    "    mesh_trans =  0.0 * cm *  torch.rand(3,device=device, dtype=dtype)\n",
    "    mesh_trans[0] = frame[\"mesh_trans_x\"]\n",
    "    mesh_trans[1] = frame[\"mesh_trans_y\"]\n",
    "    mesh_trans[2] = frame[\"mesh_trans_z\"]\n",
    "    \n",
    "    obj_filename =frame[\"mesh_path\"]\n",
    "    mesh = load_objs_as_meshes([f\"{dataset_dir}/{obj_filename}\"], device=device)\n",
    "\n",
    "    # model_gt = T_DM.Tianfu_MultiviewDeflectometryModel(device=device,dtype=dtype, Np=Np, init_cam=cameras,\n",
    "    #                                  cameraToScreenTransform=cameraToScreenTrans,\n",
    "    #                                  shader_maps=shader_maps, opt_settings=opt_settings,\n",
    "    #                                   face_mesh = face_mesh,\n",
    "    #                                   mesh = mesh,\n",
    "    #                                   mesh_rotate = mesh_rotate,\n",
    "    #                                   mesh_translate = mesh_trans,\n",
    "    #                                  screen_size_u = screen_size_x ,\n",
    "    #                                  screen_size_v = screen_size_y ,\n",
    "    #                                  imheight = actual_imheight, \n",
    "    #                                   imwidth = actual_imwidth).to(device)\n",
    "\n",
    "    Nt_x = 1024; # number pixels across for tecture map \n",
    "    Nt_y = 1024;\n",
    "    periods = np.array([[1, 1]]); # the tensor of periods\n",
    "    Nph = 4; # the number of phase shifts between [0,2*pi]\n",
    "    model_gt.create_sinusoid_reflection_maps(Nt = [Nt_x, Nt_y], Nph=Nph, periods=periods);\n",
    "    model_gt.pattern = model_gt.pattern\n",
    "    from PIL import Image\n",
    "    import skimage.transform\n",
    "    import cv2\n",
    "    \n",
    "    tex_dir = './img_data/'\n",
    "    tex_imgs = [\"cross.png\", \"cross_2.png\"]\n",
    "    \n",
    "    for img in tex_imgs:\n",
    "        tex = imageio.imread(f\"{tex_dir}/{img}\")\n",
    "        tex = np.asarray(tex)\n",
    "        tex = skimage.transform.resize(tex, (Nt_y, Nt_x))\n",
    "        tex = torch.tensor(tex, dtype= dtype, device = device)\n",
    "        if len(tex.shape) == 3:\n",
    "            tex = tex[:,:,:3]\n",
    "        elif len(tex.shape) == 2:\n",
    "            tex = tex[:,:,None].expand(-1,-1, 3)\n",
    "        \n",
    "        model_gt.pattern  = torch.cat((model_gt.pattern,tex.permute(2, 0,1)[None,]) )\n",
    "    patterns = model_gt.pattern.clone()\n",
    "    \n",
    "    tex_num = 8 + len(tex_imgs)\n",
    "    renders_gt = torch.zeros((tex_num,views,actual_imheight,actual_imwidth,3),device=device)\n",
    "    corr = torch.zeros((views, actual_imheight,actual_imwidth,2),device=device)\n",
    "    normal = torch.zeros((views, actual_imheight,actual_imwidth,3),device=device)\n",
    "    dists = torch.zeros((views,100, actual_imheight,actual_imwidth),device=device)\n",
    "    pixel_verts = torch.zeros((views, actual_imheight,actual_imwidth,3),device=device)\n",
    "\n",
    "    for j in range(tex_num):\n",
    "        for i in range(1):\n",
    "                normal_map, corr_map, images, dist, pixel_vert= model_gt.forward(view_batchids=[i], texture_batchids=[j])\n",
    "                renders_gt[j:j + 1,i:i+1,:,:,:] = images\n",
    "                corr[i:i + 1,:,:,:] = corr_map\n",
    "                normal[i:i + 1,:,:,:] = normal_map\n",
    "                dists[i:i + 1,:,:,:] = dist\n",
    "                pixel_verts[i:i + 1,:,:,:] = pixel_vert\n",
    "\n",
    "    for j in range(tex_num):\n",
    "        renders_np = renders_gt[j,0].cpu().numpy()\n",
    "        renders_np = renders_np.astype(np.float16)\n",
    "\n",
    "        renders_np = (renders_np * 225).astype(np.uint8)\n",
    "        Image.fromarray(renders_np).save(f\"{save_dir}/img_{j}.png\")\n",
    "        \n",
    "    mask = (torch.abs(corr[0,:,:, 1])< 1) * (torch.abs(corr[0,:,:, 0])< 1)\n",
    "    \n",
    "    corr[0] = torch.where(mask[:,:,None], corr[0], np.nan * corr[0])\n",
    "    convert_np_and_save(pixel_verts[0], f\"{save_dir}/depth.npy\")\n",
    "    convert_np_and_save(corr[0], f\"{save_dir}/corr.npy\")\n",
    "    convert_np_and_save(normal[0], f\"{save_dir}/norm.npy\")\n",
    "\n",
    "    break"
   ]
  },
  {
   "cell_type": "code",
   "execution_count": 43,
   "id": "359921d3-2b74-41d0-a4e5-0ec6abd73c14",
   "metadata": {},
   "outputs": [
    {
     "data": {
      "text/plain": [
       "(512, 512, 3)"
      ]
     },
     "execution_count": 43,
     "metadata": {},
     "output_type": "execute_result"
    }
   ],
   "source": [
    "a = np.load(\"./dl_data_set_12_20/imgs/00000/norm.npy\")\n",
    "a.shape"
   ]
  },
  {
   "cell_type": "code",
   "execution_count": 44,
   "id": "41da218f-3b96-4483-b17d-a1f586d34b81",
   "metadata": {},
   "outputs": [
    {
     "data": {
      "image/png": "[encoded data removed]",
      "text/plain": [
       "<Figure size 640x480 with 2 Axes>"
      ]
     },
     "metadata": {},
     "output_type": "display_data"
    }
   ],
   "source": [
    "plt.imshow(a.astype(\"float\")[:,:,2])\n",
    "plt.colorbar()\n",
    "plt.show()"
   ]
  }
 ],
 "metadata": {
  "kernelspec": {
   "display_name": "Python 3 (ipykernel)",
   "language": "python",
   "name": "python3"
  },
  "language_info": {
   "codemirror_mode": {
    "name": "ipython",
    "version": 3
   },
   "file_extension": ".py",
   "mimetype": "text/x-python",
   "name": "python",
   "nbconvert_exporter": "python",
   "pygments_lexer": "ipython3",
   "version": "3.8.18"
  }
 },
 "nbformat": 4,
 "nbformat_minor": 5
}
