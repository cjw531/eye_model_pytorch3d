{
 "cells": [
  {
   "cell_type": "code",
   "execution_count": null,
   "metadata": {},
   "outputs": [],
   "source": [
    "import math\n",
    "import matplotlib.pyplot as plt\n",
    "import numpy as np\n",
    "import cv2"
   ]
  },
  {
   "cell_type": "code",
   "execution_count": null,
   "metadata": {},
   "outputs": [],
   "source": [
    "def profile_plot(pred_img: np.ndarray, direction: str, index: int, plot_save_path: str) -> None:\n",
    "    '''\n",
    "    Prediction only (no GT, usually real data) profile plot\n",
    "    '''\n",
    "\n",
    "    if direction == 'col' or direction == 'vertical':\n",
    "        # column = 250 # real\n",
    "        # column = 25 # test\n",
    "        pred_profile = pred_img[:, index].copy()\n",
    "        pred_img[:, index] = 2 * np.pi\n",
    "    elif direction == 'row' or direction == 'horizontal':\n",
    "        # row = 350 # real\n",
    "        # row = 25 # test\n",
    "        pred_profile = pred_img[index, :].copy()\n",
    "        pred_img[index, :] = 2 * np.pi\n",
    "\n",
    "    # plot\n",
    "    fig, axs = plt.subplots(1, 2, figsize=(12,6))\n",
    "    p0 = axs[0].imshow(pred_img, cmap='gray')\n",
    "    fig.colorbar(p0, ax=axs[0])\n",
    "\n",
    "    if direction == 'col' or direction == 'vertical':\n",
    "        axs[0].set_title('Vertical Phase Profile (Column=' + str(index) + ')')\n",
    "    elif direction == 'row' or direction == 'horizontal':\n",
    "        axs[0].set_title('Horizontal Phase Profile (Row=' + str(index) + ')')\n",
    "\n",
    "    axs[1].plot(pred_profile, label='Predicted', alpha=0.7)\n",
    "    axs[1].set_title('Predicted Profile')\n",
    "    axs[1].set_xlabel('Pixel')\n",
    "    axs[1].set_ylabel('Intensity')\n",
    "    axs[1].legend()\n",
    "\n",
    "    fig.tight_layout() # to avoid axes overlapping\n",
    "    fig.savefig(plot_save_path) # save"
   ]
  },
  {
   "cell_type": "code",
   "execution_count": null,
   "metadata": {},
   "outputs": [],
   "source": [
    "img_idx = '2'"
   ]
  },
  {
   "cell_type": "code",
   "execution_count": null,
   "metadata": {},
   "outputs": [],
   "source": [
    "pred = './dl_data_set_12_20/imgs/00000_0.1/img_' + img_idx + '.png'\n",
    "pred_img = cv2.imread(pred, cv2.IMREAD_GRAYSCALE)\n",
    "print(pred_img.shape)\n",
    "\n",
    "profile_plot(pred_img= pred_img, direction=\"vertical\", index=250, plot_save_path=\"./profile_plot_0.1.png\")"
   ]
  },
  {
   "cell_type": "code",
   "execution_count": null,
   "metadata": {},
   "outputs": [],
   "source": [
    "pred = './dl_data_set_12_20/imgs/00000_0.5/img_' + img_idx + '.png'\n",
    "pred_img = cv2.imread(pred, cv2.IMREAD_GRAYSCALE)\n",
    "print(pred_img.shape)\n",
    "\n",
    "profile_plot(pred_img= pred_img, direction=\"vertical\", index=250, plot_save_path=\"./profile_plot_0.5.png\")"
   ]
  },
  {
   "cell_type": "code",
   "execution_count": null,
   "metadata": {},
   "outputs": [],
   "source": [
    "pred = './dl_data_set_12_20/imgs/00000_1.0/img_' + img_idx + '.png'\n",
    "pred_img = cv2.imread(pred, cv2.IMREAD_GRAYSCALE)\n",
    "print(pred_img.shape)\n",
    "\n",
    "profile_plot(pred_img= pred_img, direction=\"vertical\", index=250, plot_save_path=\"./profile_plot_1.0.png\")"
   ]
  },
  {
   "cell_type": "code",
   "execution_count": null,
   "metadata": {},
   "outputs": [],
   "source": [
    "img_idx = '7'"
   ]
  },
  {
   "cell_type": "code",
   "execution_count": null,
   "metadata": {},
   "outputs": [],
   "source": [
    "pred = './dl_data_set_12_20/imgs/00000_0.1/img_' + img_idx + '.png'\n",
    "pred_img = cv2.imread(pred, cv2.IMREAD_GRAYSCALE)\n",
    "print(pred_img.shape)\n",
    "\n",
    "profile_plot(pred_img= pred_img, direction=\"horizontal\", index=180, plot_save_path=\"./profile_plot_0.1_h.png\")"
   ]
  },
  {
   "cell_type": "code",
   "execution_count": null,
   "metadata": {},
   "outputs": [],
   "source": [
    "pred = './dl_data_set_12_20/imgs/00000_0.5/img_' + img_idx + '.png'\n",
    "pred_img = cv2.imread(pred, cv2.IMREAD_GRAYSCALE)\n",
    "print(pred_img.shape)\n",
    "\n",
    "profile_plot(pred_img= pred_img, direction=\"horizontal\", index=180, plot_save_path=\"./profile_plot_0.5_h.png\")"
   ]
  },
  {
   "cell_type": "code",
   "execution_count": null,
   "metadata": {},
   "outputs": [],
   "source": [
    "pred = './dl_data_set_12_20/imgs/00000_1.0/img_' + img_idx + '.png'\n",
    "pred_img = cv2.imread(pred, cv2.IMREAD_GRAYSCALE)\n",
    "print(pred_img.shape)\n",
    "\n",
    "profile_plot(pred_img= pred_img, direction=\"horizontal\", index=180, plot_save_path=\"./profile_plot_1.0_h.png\")"
   ]
  }
 ],
 "metadata": {
  "kernelspec": {
   "display_name": "eye_model",
   "language": "python",
   "name": "python3"
  },
  "language_info": {
   "codemirror_mode": {
    "name": "ipython",
    "version": 3
   },
   "file_extension": ".py",
   "mimetype": "text/x-python",
   "name": "python",
   "nbconvert_exporter": "python",
   "pygments_lexer": "ipython3",
   "version": "3.8.18"
  }
 },
 "nbformat": 4,
 "nbformat_minor": 2
}
